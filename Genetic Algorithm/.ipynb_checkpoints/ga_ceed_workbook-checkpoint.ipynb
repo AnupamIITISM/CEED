{
 "cells": [
  {
   "cell_type": "code",
   "execution_count": 1,
   "metadata": {},
   "outputs": [],
   "source": [
    "import pandas as pd\n",
    "import numpy as np\n",
    "import ga_ceed_6gen\n",
    "import random"
   ]
  },
  {
   "cell_type": "code",
   "execution_count": 2,
   "metadata": {},
   "outputs": [
    {
     "name": "stdout",
     "output_type": "stream",
     "text": [
      "       a       b        c   alpha    beta  gamma  pmin  pmax\n",
      "0  0.152  38.540   756.80  0.0042  0.3300  13.86    10   125\n",
      "1  0.106  46.160   451.32  0.0042  0.3300  13.86    10   150\n",
      "2  0.028  40.400  1050.00  0.0068 -0.5455  40.26    35   225\n",
      "3  0.035  38.310  1243.53  0.0068 -0.5455  40.26    35   210\n",
      "4  0.021  36.328  1658.57  0.0046 -0.5112  42.92   130   325\n",
      "5  0.018  38.270  1356.66  0.0046 -0.5112  42.96   125   315\n"
     ]
    }
   ],
   "source": [
    "data_6_gen_df = pd.read_excel('ceed_data_6_gen.xlsx')\n",
    "print(data_6_gen_df)"
   ]
  },
  {
   "cell_type": "code",
   "execution_count": 3,
   "metadata": {},
   "outputs": [],
   "source": [
    "# get a,b,c column\n"
   ]
  },
  {
   "cell_type": "code",
   "execution_count": 4,
   "metadata": {},
   "outputs": [],
   "source": [
    "# Random Candidate\n",
    "cand = np.array([1,2, 1, 1, 1, 3])"
   ]
  },
  {
   "cell_type": "code",
   "execution_count": 5,
   "metadata": {},
   "outputs": [
    {
     "data": {
      "text/plain": [
       "0.022264267892110418"
      ]
     },
     "execution_count": 5,
     "metadata": {},
     "output_type": "execute_result"
    }
   ],
   "source": [
    "ga_ceed_6gen.calc_hi(data_6_gen_df, cand,600)"
   ]
  },
  {
   "cell_type": "code",
   "execution_count": 6,
   "metadata": {},
   "outputs": [
    {
     "data": {
      "text/plain": [
       "6882.759960210513"
      ]
     },
     "execution_count": 6,
     "metadata": {},
     "output_type": "execute_result"
    }
   ],
   "source": [
    "ga_ceed_6gen.calc_candidate_total_cost(cand, data_6_gen_df, 900)"
   ]
  },
  {
   "cell_type": "code",
   "execution_count": 12,
   "metadata": {},
   "outputs": [
    {
     "data": {
      "text/plain": [
       "array([[ 10.,  42.,  39.,  38., 141., 130.],\n",
       "       [ 17.,  13.,  41.,  59., 135., 135.],\n",
       "       [ 10.,  22.,  73.,  37., 132., 126.],\n",
       "       [ 21.,  27.,  47.,  45., 132., 128.],\n",
       "       [ 19.,  16.,  63.,  35., 134., 133.],\n",
       "       [ 11.,  13.,  35.,  55., 160., 126.],\n",
       "       [ 19.,  11.,  41.,  43., 154., 132.],\n",
       "       [ 10.,  15.,  42.,  48., 144., 141.]])"
      ]
     },
     "execution_count": 12,
     "metadata": {},
     "output_type": "execute_result"
    }
   ],
   "source": [
    "popln = ga_ceed_6gen.initiate_population_random(data_6_gen_df, 8, 6, 400)\n",
    "popln"
   ]
  },
  {
   "cell_type": "code",
   "execution_count": 17,
   "metadata": {},
   "outputs": [
    {
     "data": {
      "text/plain": [
       "array([[1.00000000e+01, 4.20000000e+01, 3.90000000e+01, 3.80000000e+01,\n",
       "        1.41000000e+02, 1.30000000e+02, 2.29914877e+04],\n",
       "       [1.70000000e+01, 1.30000000e+01, 4.10000000e+01, 5.90000000e+01,\n",
       "        1.35000000e+02, 1.35000000e+02, 2.27055813e+04],\n",
       "       [1.00000000e+01, 2.20000000e+01, 7.30000000e+01, 3.70000000e+01,\n",
       "        1.32000000e+02, 1.26000000e+02, 2.28215449e+04],\n",
       "       [2.10000000e+01, 2.70000000e+01, 4.70000000e+01, 4.50000000e+01,\n",
       "        1.32000000e+02, 1.28000000e+02, 2.28314951e+04],\n",
       "       [1.90000000e+01, 1.60000000e+01, 6.30000000e+01, 3.50000000e+01,\n",
       "        1.34000000e+02, 1.33000000e+02, 2.27676366e+04],\n",
       "       [1.10000000e+01, 1.30000000e+01, 3.50000000e+01, 5.50000000e+01,\n",
       "        1.60000000e+02, 1.26000000e+02, 2.27010399e+04],\n",
       "       [1.90000000e+01, 1.10000000e+01, 4.10000000e+01, 4.30000000e+01,\n",
       "        1.54000000e+02, 1.32000000e+02, 2.27026640e+04],\n",
       "       [1.00000000e+01, 1.50000000e+01, 4.20000000e+01, 4.80000000e+01,\n",
       "        1.44000000e+02, 1.41000000e+02, 2.27247114e+04]])"
      ]
     },
     "execution_count": 17,
     "metadata": {},
     "output_type": "execute_result"
    }
   ],
   "source": [
    "popln_cost = ga_ceed_6gen.calculate_population_cost(popln, data_6_gen_df, 400)\n",
    "popln_cost"
   ]
  },
  {
   "cell_type": "code",
   "execution_count": 21,
   "metadata": {},
   "outputs": [
    {
     "name": "stdout",
     "output_type": "stream",
     "text": [
      "[[10.0, 42.0, 39.0, 38.0, 141.0, 130.0, 22991.487655870034], [17.0, 13.0, 41.0, 59.0, 135.0, 135.0, 22705.581258072238], [10.0, 22.0, 73.0, 37.0, 132.0, 126.0, 22821.54492919315], [21.0, 27.0, 47.0, 45.0, 132.0, 128.0, 22831.49506685112], [19.0, 16.0, 63.0, 35.0, 134.0, 133.0, 22767.63660088985], [11.0, 13.0, 35.0, 55.0, 160.0, 126.0, 22701.039922597774], [19.0, 11.0, 41.0, 43.0, 154.0, 132.0, 22702.663963074854], [10.0, 15.0, 42.0, 48.0, 144.0, 141.0, 22724.71143865251]]\n"
     ]
    }
   ],
   "source": [
    "popln_cost_list = popln_cost.tolist()\n",
    "print(popln_cost_list)"
   ]
  },
  {
   "cell_type": "code",
   "execution_count": 22,
   "metadata": {},
   "outputs": [],
   "source": [
    "def sortCost(val): \n",
    "    return val[-1]  "
   ]
  },
  {
   "cell_type": "code",
   "execution_count": 24,
   "metadata": {},
   "outputs": [
    {
     "data": {
      "text/plain": [
       "[[11.0, 13.0, 35.0, 55.0, 160.0, 126.0, 22701.039922597774],\n",
       " [19.0, 11.0, 41.0, 43.0, 154.0, 132.0, 22702.663963074854],\n",
       " [17.0, 13.0, 41.0, 59.0, 135.0, 135.0, 22705.581258072238],\n",
       " [10.0, 15.0, 42.0, 48.0, 144.0, 141.0, 22724.71143865251],\n",
       " [19.0, 16.0, 63.0, 35.0, 134.0, 133.0, 22767.63660088985],\n",
       " [10.0, 22.0, 73.0, 37.0, 132.0, 126.0, 22821.54492919315],\n",
       " [21.0, 27.0, 47.0, 45.0, 132.0, 128.0, 22831.49506685112],\n",
       " [10.0, 42.0, 39.0, 38.0, 141.0, 130.0, 22991.487655870034]]"
      ]
     },
     "execution_count": 24,
     "metadata": {},
     "output_type": "execute_result"
    }
   ],
   "source": [
    "popln_cost_list.sort(key = sortCost)\n",
    "popln_cost_list"
   ]
  },
  {
   "cell_type": "code",
   "execution_count": 28,
   "metadata": {},
   "outputs": [
    {
     "name": "stdout",
     "output_type": "stream",
     "text": [
      "Minimum Cost :  [11.0, 13.0, 35.0, 55.0, 160.0, 126.0, 22701.039922597774]\n"
     ]
    }
   ],
   "source": [
    "minimum = popln_cost_list[0]\n",
    "print(\"Minimum Cost : \", popln_cost_list[0])"
   ]
  },
  {
   "cell_type": "code",
   "execution_count": 29,
   "metadata": {},
   "outputs": [
    {
     "data": {
      "text/plain": [
       "[[11.0, 13.0, 35.0, 55.0, 160.0, 126.0, 22701.039922597774],\n",
       " [19.0, 11.0, 41.0, 43.0, 154.0, 132.0, 22702.663963074854],\n",
       " [17.0, 13.0, 41.0, 59.0, 135.0, 135.0, 22705.581258072238],\n",
       " [10.0, 15.0, 42.0, 48.0, 144.0, 141.0, 22724.71143865251]]"
      ]
     },
     "execution_count": 29,
     "metadata": {},
     "output_type": "execute_result"
    }
   ],
   "source": [
    "# Select Parent Pool -- lowest parent costs\n",
    "selected_parents = popln_cost_list[:4]\n",
    "selected_parents"
   ]
  },
  {
   "cell_type": "code",
   "execution_count": 30,
   "metadata": {},
   "outputs": [
    {
     "data": {
      "text/plain": [
       "array([[1.10000000e+01, 1.30000000e+01, 3.50000000e+01, 5.50000000e+01,\n",
       "        1.60000000e+02, 1.26000000e+02, 2.27010399e+04],\n",
       "       [1.90000000e+01, 1.10000000e+01, 4.10000000e+01, 4.30000000e+01,\n",
       "        1.54000000e+02, 1.32000000e+02, 2.27026640e+04],\n",
       "       [1.70000000e+01, 1.30000000e+01, 4.10000000e+01, 5.90000000e+01,\n",
       "        1.35000000e+02, 1.35000000e+02, 2.27055813e+04],\n",
       "       [1.00000000e+01, 1.50000000e+01, 4.20000000e+01, 4.80000000e+01,\n",
       "        1.44000000e+02, 1.41000000e+02, 2.27247114e+04]])"
      ]
     },
     "execution_count": 30,
     "metadata": {},
     "output_type": "execute_result"
    }
   ],
   "source": [
    "selected_parents_arr = np.array(selected_parents)\n",
    "selected_parents_arr"
   ]
  },
  {
   "cell_type": "code",
   "execution_count": null,
   "metadata": {},
   "outputs": [],
   "source": []
  },
  {
   "cell_type": "code",
   "execution_count": null,
   "metadata": {},
   "outputs": [],
   "source": []
  }
 ],
 "metadata": {
  "kernelspec": {
   "display_name": "Python 3",
   "language": "python",
   "name": "python3"
  },
  "language_info": {
   "codemirror_mode": {
    "name": "ipython",
    "version": 3
   },
   "file_extension": ".py",
   "mimetype": "text/x-python",
   "name": "python",
   "nbconvert_exporter": "python",
   "pygments_lexer": "ipython3",
   "version": "3.6.5"
  }
 },
 "nbformat": 4,
 "nbformat_minor": 2
}
