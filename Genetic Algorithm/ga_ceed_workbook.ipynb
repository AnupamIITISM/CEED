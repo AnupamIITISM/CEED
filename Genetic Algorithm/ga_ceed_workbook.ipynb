{
 "cells": [
  {
   "cell_type": "code",
   "execution_count": 43,
   "metadata": {},
   "outputs": [],
   "source": [
    "import pandas as pd\n",
    "import numpy as np"
   ]
  },
  {
   "cell_type": "code",
   "execution_count": 44,
   "metadata": {},
   "outputs": [],
   "source": [
    "data_6_gen_df = pd.read_excel('ceed_data_6_gen.xlsx')"
   ]
  },
  {
   "cell_type": "code",
   "execution_count": 45,
   "metadata": {},
   "outputs": [
    {
     "name": "stdout",
     "output_type": "stream",
     "text": [
      "       a       b        c   alpha    beta  gamma  pmin  pmax\n",
      "0  0.152  38.540   756.80  0.0042  0.3300  13.86    10   125\n",
      "1  0.106  46.160   451.32  0.0042  0.3300  13.86    10   150\n",
      "2  0.028  40.400  1050.00  0.0068 -0.5455  40.26    35   225\n",
      "3  0.035  38.310  1243.53  0.0068 -0.5455  40.26    35   210\n",
      "4  0.021  36.328  1658.57  0.0046 -0.5112  42.92   130   325\n",
      "5  0.018  38.270  1356.66  0.0046 -0.5112  42.96   125   315\n"
     ]
    }
   ],
   "source": [
    "print(data_6_gen_df)"
   ]
  },
  {
   "cell_type": "code",
   "execution_count": 46,
   "metadata": {},
   "outputs": [
    {
     "data": {
      "text/plain": [
       "<bound method NDFrame.head of        a       b        c   alpha    beta  gamma  pmin  pmax\n",
       "0  0.152  38.540   756.80  0.0042  0.3300  13.86    10   125\n",
       "1  0.106  46.160   451.32  0.0042  0.3300  13.86    10   150\n",
       "2  0.028  40.400  1050.00  0.0068 -0.5455  40.26    35   225\n",
       "3  0.035  38.310  1243.53  0.0068 -0.5455  40.26    35   210\n",
       "4  0.021  36.328  1658.57  0.0046 -0.5112  42.92   130   325\n",
       "5  0.018  38.270  1356.66  0.0046 -0.5112  42.96   125   315>"
      ]
     },
     "execution_count": 46,
     "metadata": {},
     "output_type": "execute_result"
    }
   ],
   "source": [
    "data_6_gen_df.head"
   ]
  },
  {
   "cell_type": "code",
   "execution_count": 47,
   "metadata": {},
   "outputs": [],
   "source": [
    "data_6_gen = data_6_gen_df.values"
   ]
  },
  {
   "cell_type": "code",
   "execution_count": 48,
   "metadata": {},
   "outputs": [
    {
     "data": {
      "text/plain": [
       "array([[ 1.52000e-01,  3.85400e+01,  7.56800e+02,  4.20000e-03,\n",
       "         3.30000e-01,  1.38600e+01,  1.00000e+01,  1.25000e+02],\n",
       "       [ 1.06000e-01,  4.61600e+01,  4.51320e+02,  4.20000e-03,\n",
       "         3.30000e-01,  1.38600e+01,  1.00000e+01,  1.50000e+02],\n",
       "       [ 2.80000e-02,  4.04000e+01,  1.05000e+03,  6.80000e-03,\n",
       "        -5.45500e-01,  4.02600e+01,  3.50000e+01,  2.25000e+02],\n",
       "       [ 3.50000e-02,  3.83100e+01,  1.24353e+03,  6.80000e-03,\n",
       "        -5.45500e-01,  4.02600e+01,  3.50000e+01,  2.10000e+02],\n",
       "       [ 2.10000e-02,  3.63280e+01,  1.65857e+03,  4.60000e-03,\n",
       "        -5.11200e-01,  4.29200e+01,  1.30000e+02,  3.25000e+02],\n",
       "       [ 1.80000e-02,  3.82700e+01,  1.35666e+03,  4.60000e-03,\n",
       "        -5.11200e-01,  4.29600e+01,  1.25000e+02,  3.15000e+02]])"
      ]
     },
     "execution_count": 48,
     "metadata": {},
     "output_type": "execute_result"
    }
   ],
   "source": [
    "data_6_gen"
   ]
  },
  {
   "cell_type": "code",
   "execution_count": 49,
   "metadata": {},
   "outputs": [
    {
     "name": "stdout",
     "output_type": "stream",
     "text": [
      "[1.0600e-01 4.6160e+01 4.5132e+02 4.2000e-03 3.3000e-01 1.3860e+01\n",
      " 1.0000e+01 1.5000e+02]\n"
     ]
    }
   ],
   "source": [
    "print(data_6_gen[1,:])"
   ]
  },
  {
   "cell_type": "code",
   "execution_count": 50,
   "metadata": {},
   "outputs": [],
   "source": [
    "# get a,b,c column\n",
    "\n",
    "a_params = data_6_gen_df[data_6_gen_df.columns[0:3]]"
   ]
  },
  {
   "cell_type": "code",
   "execution_count": 51,
   "metadata": {},
   "outputs": [
    {
     "data": {
      "text/plain": [
       "46.16"
      ]
     },
     "execution_count": 51,
     "metadata": {},
     "output_type": "execute_result"
    }
   ],
   "source": [
    "a_params.values[1][1]"
   ]
  },
  {
   "cell_type": "code",
   "execution_count": 57,
   "metadata": {},
   "outputs": [],
   "source": [
    "import ga_ceed_6gen"
   ]
  },
  {
   "cell_type": "code",
   "execution_count": null,
   "metadata": {},
   "outputs": [],
   "source": []
  },
  {
   "cell_type": "code",
   "execution_count": 58,
   "metadata": {},
   "outputs": [],
   "source": [
    "cand = np.array([1,2, 1, 1, 1, 3])"
   ]
  },
  {
   "cell_type": "code",
   "execution_count": 59,
   "metadata": {},
   "outputs": [
    {
     "data": {
      "text/plain": [
       "6"
      ]
     },
     "execution_count": 59,
     "metadata": {},
     "output_type": "execute_result"
    }
   ],
   "source": [
    "cand.size"
   ]
  },
  {
   "cell_type": "code",
   "execution_count": 60,
   "metadata": {},
   "outputs": [
    {
     "ename": "TypeError",
     "evalue": "'int' object is not callable",
     "output_type": "error",
     "traceback": [
      "\u001b[1;31m---------------------------------------------------------------------------\u001b[0m",
      "\u001b[1;31mTypeError\u001b[0m                                 Traceback (most recent call last)",
      "\u001b[1;32m<ipython-input-60-90a711f4b744>\u001b[0m in \u001b[0;36m<module>\u001b[1;34m()\u001b[0m\n\u001b[1;32m----> 1\u001b[1;33m \u001b[0mga_ceed_6gen\u001b[0m\u001b[1;33m.\u001b[0m\u001b[0mcalc_candidate_total_cost\u001b[0m\u001b[1;33m(\u001b[0m\u001b[0mcand\u001b[0m\u001b[1;33m,\u001b[0m \u001b[0mdata_6_gen_df\u001b[0m\u001b[1;33m,\u001b[0m \u001b[1;36m.01\u001b[0m\u001b[1;33m)\u001b[0m\u001b[1;33m\u001b[0m\u001b[0m\n\u001b[0m",
      "\u001b[1;32m~\\Documents\\GitHub\\CEED\\Genetic Algorithm\\ga_ceed_6gen.py\u001b[0m in \u001b[0;36mcalc_candidate_total_cost\u001b[1;34m(candidate, data_6_gen_df, h_val)\u001b[0m\n\u001b[0;32m     47\u001b[0m \u001b[1;33m\u001b[0m\u001b[0m\n\u001b[0;32m     48\u001b[0m \u001b[1;32mdef\u001b[0m \u001b[0mcalc_candidate_total_cost\u001b[0m\u001b[1;33m(\u001b[0m\u001b[0mcandidate\u001b[0m\u001b[1;33m,\u001b[0m \u001b[0mdata_6_gen_df\u001b[0m\u001b[1;33m,\u001b[0m \u001b[0mh_val\u001b[0m\u001b[1;33m)\u001b[0m\u001b[1;33m:\u001b[0m\u001b[1;33m\u001b[0m\u001b[0m\n\u001b[1;32m---> 49\u001b[1;33m     \u001b[0mfuel_cost\u001b[0m \u001b[1;33m=\u001b[0m \u001b[0mcalc_candidate_fuel_cost\u001b[0m\u001b[1;33m(\u001b[0m\u001b[0mcandidate\u001b[0m\u001b[1;33m,\u001b[0m \u001b[0mdata_6_gen_df\u001b[0m\u001b[1;33m)\u001b[0m\u001b[1;33m\u001b[0m\u001b[0m\n\u001b[0m\u001b[0;32m     50\u001b[0m     \u001b[0memission_cost\u001b[0m \u001b[1;33m=\u001b[0m \u001b[0mcalc_candidate_emission_cost\u001b[0m\u001b[1;33m(\u001b[0m\u001b[0mcandidate\u001b[0m\u001b[1;33m,\u001b[0m \u001b[0mdata_6_gen_df\u001b[0m\u001b[1;33m)\u001b[0m\u001b[1;33m\u001b[0m\u001b[0m\n\u001b[0;32m     51\u001b[0m     \u001b[0mtotal_cost\u001b[0m \u001b[1;33m=\u001b[0m \u001b[0mfuel_cost\u001b[0m \u001b[1;33m+\u001b[0m \u001b[0mh_val\u001b[0m\u001b[1;33m*\u001b[0m\u001b[0memission_cost\u001b[0m\u001b[1;33m\u001b[0m\u001b[0m\n",
      "\u001b[1;32m~\\Documents\\GitHub\\CEED\\Genetic Algorithm\\ga_ceed_6gen.py\u001b[0m in \u001b[0;36mcalc_candidate_fuel_cost\u001b[1;34m(candidate, data_6_gen_df)\u001b[0m\n\u001b[0;32m     30\u001b[0m     \u001b[0mfuel_cost\u001b[0m \u001b[1;33m=\u001b[0m \u001b[1;36m0\u001b[0m\u001b[1;33m\u001b[0m\u001b[0m\n\u001b[0;32m     31\u001b[0m     \u001b[0ma_params\u001b[0m \u001b[1;33m=\u001b[0m \u001b[0mdata_6_gen_df\u001b[0m\u001b[1;33m[\u001b[0m\u001b[0mdata_6_gen_df\u001b[0m\u001b[1;33m.\u001b[0m\u001b[0mcolumns\u001b[0m\u001b[1;33m[\u001b[0m\u001b[1;36m0\u001b[0m\u001b[1;33m:\u001b[0m\u001b[1;36m3\u001b[0m\u001b[1;33m]\u001b[0m\u001b[1;33m]\u001b[0m\u001b[1;33m\u001b[0m\u001b[0m\n\u001b[1;32m---> 32\u001b[1;33m     \u001b[1;32mfor\u001b[0m \u001b[0mi\u001b[0m \u001b[1;32min\u001b[0m \u001b[0mrange\u001b[0m\u001b[1;33m(\u001b[0m\u001b[0mcandidate\u001b[0m\u001b[1;33m.\u001b[0m\u001b[0msize\u001b[0m\u001b[1;33m)\u001b[0m\u001b[1;33m:\u001b[0m\u001b[1;33m\u001b[0m\u001b[0m\n\u001b[0m\u001b[0;32m     33\u001b[0m         \u001b[0mpi\u001b[0m \u001b[1;33m=\u001b[0m \u001b[0mcandidate\u001b[0m\u001b[1;33m[\u001b[0m\u001b[0mi\u001b[0m\u001b[1;33m]\u001b[0m\u001b[1;33m\u001b[0m\u001b[0m\n\u001b[0;32m     34\u001b[0m         \u001b[0mgenerator_cost\u001b[0m \u001b[1;33m=\u001b[0m \u001b[0ma_params\u001b[0m\u001b[1;33m.\u001b[0m\u001b[0mvalues\u001b[0m\u001b[1;33m[\u001b[0m\u001b[0mi\u001b[0m\u001b[1;33m]\u001b[0m\u001b[1;33m[\u001b[0m\u001b[1;36m0\u001b[0m\u001b[1;33m]\u001b[0m\u001b[1;33m*\u001b[0m\u001b[0mpi\u001b[0m\u001b[1;33m*\u001b[0m\u001b[0mpi\u001b[0m  \u001b[1;33m+\u001b[0m \u001b[0ma_params\u001b[0m\u001b[1;33m.\u001b[0m\u001b[0mvalues\u001b[0m\u001b[1;33m[\u001b[0m\u001b[0mi\u001b[0m\u001b[1;33m]\u001b[0m\u001b[1;33m[\u001b[0m\u001b[1;36m1\u001b[0m\u001b[1;33m]\u001b[0m\u001b[1;33m*\u001b[0m\u001b[0mpi\u001b[0m \u001b[1;33m+\u001b[0m \u001b[0ma_params\u001b[0m\u001b[1;33m.\u001b[0m\u001b[0mvalues\u001b[0m\u001b[1;33m[\u001b[0m\u001b[0mi\u001b[0m\u001b[1;33m]\u001b[0m\u001b[1;33m[\u001b[0m\u001b[1;36m2\u001b[0m\u001b[1;33m]\u001b[0m\u001b[1;33m\u001b[0m\u001b[0m\n",
      "\u001b[1;31mTypeError\u001b[0m: 'int' object is not callable"
     ]
    }
   ],
   "source": [
    "ga_ceed_6gen.calc_candidate_total_cost(cand, data_6_gen_df, .01)"
   ]
  },
  {
   "cell_type": "code",
   "execution_count": 61,
   "metadata": {},
   "outputs": [
    {
     "data": {
      "text/plain": [
       "range(0, 6)"
      ]
     },
     "execution_count": 61,
     "metadata": {},
     "output_type": "execute_result"
    }
   ],
   "source": [
    "range(6)"
   ]
  },
  {
   "cell_type": "code",
   "execution_count": null,
   "metadata": {},
   "outputs": [],
   "source": []
  }
 ],
 "metadata": {
  "kernelspec": {
   "display_name": "Python 3",
   "language": "python",
   "name": "python3"
  },
  "language_info": {
   "codemirror_mode": {
    "name": "ipython",
    "version": 3
   },
   "file_extension": ".py",
   "mimetype": "text/x-python",
   "name": "python",
   "nbconvert_exporter": "python",
   "pygments_lexer": "ipython3",
   "version": "3.6.5"
  }
 },
 "nbformat": 4,
 "nbformat_minor": 2
}
