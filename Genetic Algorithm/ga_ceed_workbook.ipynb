{
 "cells": [
  {
   "cell_type": "code",
   "execution_count": 12,
   "metadata": {},
   "outputs": [],
   "source": [
    "import pandas as pd\n"
   ]
  },
  {
   "cell_type": "code",
   "execution_count": 13,
   "metadata": {},
   "outputs": [],
   "source": [
    "data_6_gen_df = pd.read_excel('ceed_data_6_gen.xlsx')"
   ]
  },
  {
   "cell_type": "code",
   "execution_count": 14,
   "metadata": {},
   "outputs": [
    {
     "name": "stdout",
     "output_type": "stream",
     "text": [
      "       a       b        c   alpha    beta  gamma  pmin  pmax\n",
      "0  0.152  38.540   756.80  0.0042  0.3300  13.86    10   125\n",
      "1  0.106  46.160   451.32  0.0042  0.3300  13.86    10   150\n",
      "2  0.028  40.400  1050.00  0.0068 -0.5455  40.26    35   225\n",
      "3  0.035  38.310  1243.53  0.0068 -0.5455  40.26    35   210\n",
      "4  0.021  36.328  1658.57  0.0046 -0.5112  42.92   130   325\n",
      "5  0.018  38.270  1356.66  0.0046 -0.5112  42.96   125   315\n"
     ]
    }
   ],
   "source": [
    "print(data_6_gen_df)"
   ]
  },
  {
   "cell_type": "code",
   "execution_count": 15,
   "metadata": {},
   "outputs": [
    {
     "data": {
      "text/plain": [
       "<bound method NDFrame.head of        a       b        c   alpha    beta  gamma  pmin  pmax\n",
       "0  0.152  38.540   756.80  0.0042  0.3300  13.86    10   125\n",
       "1  0.106  46.160   451.32  0.0042  0.3300  13.86    10   150\n",
       "2  0.028  40.400  1050.00  0.0068 -0.5455  40.26    35   225\n",
       "3  0.035  38.310  1243.53  0.0068 -0.5455  40.26    35   210\n",
       "4  0.021  36.328  1658.57  0.0046 -0.5112  42.92   130   325\n",
       "5  0.018  38.270  1356.66  0.0046 -0.5112  42.96   125   315>"
      ]
     },
     "execution_count": 15,
     "metadata": {},
     "output_type": "execute_result"
    }
   ],
   "source": [
    "data_6_gen_df.head"
   ]
  },
  {
   "cell_type": "code",
   "execution_count": 16,
   "metadata": {},
   "outputs": [],
   "source": [
    "data_6_gen = data_6_gen_df.values"
   ]
  },
  {
   "cell_type": "code",
   "execution_count": 17,
   "metadata": {},
   "outputs": [
    {
     "data": {
      "text/plain": [
       "array([[ 1.52000e-01,  3.85400e+01,  7.56800e+02,  4.20000e-03,\n",
       "         3.30000e-01,  1.38600e+01,  1.00000e+01,  1.25000e+02],\n",
       "       [ 1.06000e-01,  4.61600e+01,  4.51320e+02,  4.20000e-03,\n",
       "         3.30000e-01,  1.38600e+01,  1.00000e+01,  1.50000e+02],\n",
       "       [ 2.80000e-02,  4.04000e+01,  1.05000e+03,  6.80000e-03,\n",
       "        -5.45500e-01,  4.02600e+01,  3.50000e+01,  2.25000e+02],\n",
       "       [ 3.50000e-02,  3.83100e+01,  1.24353e+03,  6.80000e-03,\n",
       "        -5.45500e-01,  4.02600e+01,  3.50000e+01,  2.10000e+02],\n",
       "       [ 2.10000e-02,  3.63280e+01,  1.65857e+03,  4.60000e-03,\n",
       "        -5.11200e-01,  4.29200e+01,  1.30000e+02,  3.25000e+02],\n",
       "       [ 1.80000e-02,  3.82700e+01,  1.35666e+03,  4.60000e-03,\n",
       "        -5.11200e-01,  4.29600e+01,  1.25000e+02,  3.15000e+02]])"
      ]
     },
     "execution_count": 17,
     "metadata": {},
     "output_type": "execute_result"
    }
   ],
   "source": [
    "data_6_gen"
   ]
  },
  {
   "cell_type": "code",
   "execution_count": 23,
   "metadata": {},
   "outputs": [
    {
     "name": "stdout",
     "output_type": "stream",
     "text": [
      "[1.0600e-01 4.6160e+01 4.5132e+02 4.2000e-03 3.3000e-01 1.3860e+01\n",
      " 1.0000e+01 1.5000e+02]\n"
     ]
    }
   ],
   "source": [
    "print(data_6_gen[1,:])"
   ]
  },
  {
   "cell_type": "code",
   "execution_count": 26,
   "metadata": {},
   "outputs": [],
   "source": [
    "# get a,b,c column\n",
    "\n",
    "a_params = data_6_gen_df[data_6_gen_df.columns[0:3]]"
   ]
  },
  {
   "cell_type": "code",
   "execution_count": 29,
   "metadata": {},
   "outputs": [
    {
     "data": {
      "text/plain": [
       "46.16"
      ]
     },
     "execution_count": 29,
     "metadata": {},
     "output_type": "execute_result"
    }
   ],
   "source": [
    "a_params.values[1][1]"
   ]
  },
  {
   "cell_type": "code",
   "execution_count": null,
   "metadata": {},
   "outputs": [],
   "source": []
  }
 ],
 "metadata": {
  "kernelspec": {
   "display_name": "Python 3",
   "language": "python",
   "name": "python3"
  },
  "language_info": {
   "codemirror_mode": {
    "name": "ipython",
    "version": 3
   },
   "file_extension": ".py",
   "mimetype": "text/x-python",
   "name": "python",
   "nbconvert_exporter": "python",
   "pygments_lexer": "ipython3",
   "version": "3.6.5"
  }
 },
 "nbformat": 4,
 "nbformat_minor": 2
}
