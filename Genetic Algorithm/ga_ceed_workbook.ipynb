{
 "cells": [
  {
   "cell_type": "code",
   "execution_count": 1,
   "metadata": {},
   "outputs": [],
   "source": [
    "import pandas as pd\n",
    "import numpy as np\n",
    "import ga_ceed_6gen\n",
    "import random\n",
    "\n",
    "pdemand = 800\n",
    "prob_mutation = 0.2"
   ]
  },
  {
   "cell_type": "code",
   "execution_count": 2,
   "metadata": {},
   "outputs": [
    {
     "name": "stdout",
     "output_type": "stream",
     "text": [
      "       a       b        c   alpha    beta  gamma  pmin  pmax\n",
      "0  0.152  38.540   756.80  0.0042  0.3300  13.86    10   125\n",
      "1  0.106  46.160   451.32  0.0042  0.3300  13.86    10   150\n",
      "2  0.028  40.400  1050.00  0.0068 -0.5455  40.26    35   225\n",
      "3  0.035  38.310  1243.53  0.0068 -0.5455  40.26    35   210\n",
      "4  0.021  36.328  1658.57  0.0046 -0.5112  42.92   130   325\n",
      "5  0.018  38.270  1356.66  0.0046 -0.5112  42.96   125   315\n"
     ]
    }
   ],
   "source": [
    "data_6_gen_df = pd.read_excel('ceed_data_6_gen.xlsx')\n",
    "print(data_6_gen_df)"
   ]
  },
  {
   "cell_type": "code",
   "execution_count": 37,
   "metadata": {},
   "outputs": [
    {
     "data": {
      "text/plain": [
       "6"
      ]
     },
     "execution_count": 37,
     "metadata": {},
     "output_type": "execute_result"
    }
   ],
   "source": [
    "# get a,b,c column\n",
    "a, b = data_6_gen_df.shape\n",
    "a"
   ]
  },
  {
   "cell_type": "code",
   "execution_count": 4,
   "metadata": {},
   "outputs": [],
   "source": [
    "# Random Candidate\n",
    "cand = np.array([1,2, 1, 1, 1, 3])"
   ]
  },
  {
   "cell_type": "code",
   "execution_count": 5,
   "metadata": {},
   "outputs": [
    {
     "data": {
      "text/plain": [
       "0.022264267892110418"
      ]
     },
     "execution_count": 5,
     "metadata": {},
     "output_type": "execute_result"
    }
   ],
   "source": [
    "ga_ceed_6gen.calc_hi(data_6_gen_df, cand,pdemand)"
   ]
  },
  {
   "cell_type": "code",
   "execution_count": 6,
   "metadata": {},
   "outputs": [
    {
     "data": {
      "text/plain": [
       "6882.685959517165"
      ]
     },
     "execution_count": 6,
     "metadata": {},
     "output_type": "execute_result"
    }
   ],
   "source": [
    "ga_ceed_6gen.calc_candidate_total_cost(cand, data_6_gen_df, pdemand)"
   ]
  },
  {
   "cell_type": "code",
   "execution_count": 7,
   "metadata": {},
   "outputs": [
    {
     "data": {
      "text/plain": [
       "array([[ 35.,  62., 101., 167., 136., 299.],\n",
       "       [ 64., 128., 185.,  82., 156., 185.],\n",
       "       [ 46.,  36.,  81., 190., 195., 252.],\n",
       "       [ 33.,  50., 221.,  89., 153., 254.],\n",
       "       [ 93., 136., 113.,  77., 236., 145.],\n",
       "       [ 49.,  81.,  80., 187., 246., 157.],\n",
       "       [118.,  31., 134., 143., 201., 173.],\n",
       "       [ 16.,  80.,  98., 170., 166., 270.]])"
      ]
     },
     "execution_count": 7,
     "metadata": {},
     "output_type": "execute_result"
    }
   ],
   "source": [
    "popln = ga_ceed_6gen.initiate_population_random(data_6_gen_df, 8, 6, pdemand)\n",
    "popln"
   ]
  },
  {
   "cell_type": "code",
   "execution_count": 8,
   "metadata": {},
   "outputs": [
    {
     "data": {
      "text/plain": [
       "array([[3.50000000e+01, 6.20000000e+01, 1.01000000e+02, 1.67000000e+02,\n",
       "        1.36000000e+02, 2.99000000e+02, 4.14563688e+04],\n",
       "       [6.40000000e+01, 1.28000000e+02, 1.85000000e+02, 8.20000000e+01,\n",
       "        1.56000000e+02, 1.85000000e+02, 4.29472210e+04],\n",
       "       [4.60000000e+01, 3.60000000e+01, 8.10000000e+01, 1.90000000e+02,\n",
       "        1.95000000e+02, 2.52000000e+02, 4.10923145e+04],\n",
       "       [3.30000000e+01, 5.00000000e+01, 2.21000000e+02, 8.90000000e+01,\n",
       "        1.53000000e+02, 2.54000000e+02, 4.14561106e+04],\n",
       "       [9.30000000e+01, 1.36000000e+02, 1.13000000e+02, 7.70000000e+01,\n",
       "        2.36000000e+02, 1.45000000e+02, 4.34174121e+04],\n",
       "       [4.90000000e+01, 8.10000000e+01, 8.00000000e+01, 1.87000000e+02,\n",
       "        2.46000000e+02, 1.57000000e+02, 4.16766700e+04],\n",
       "       [1.18000000e+02, 3.10000000e+01, 1.34000000e+02, 1.43000000e+02,\n",
       "        2.01000000e+02, 1.73000000e+02, 4.21462730e+04],\n",
       "       [1.60000000e+01, 8.00000000e+01, 9.80000000e+01, 1.70000000e+02,\n",
       "        1.66000000e+02, 2.70000000e+02, 4.15637181e+04]])"
      ]
     },
     "execution_count": 8,
     "metadata": {},
     "output_type": "execute_result"
    }
   ],
   "source": [
    "popln_cost = ga_ceed_6gen.calculate_population_cost(popln, data_6_gen_df, pdemand)\n",
    "popln_cost"
   ]
  },
  {
   "cell_type": "code",
   "execution_count": 9,
   "metadata": {},
   "outputs": [
    {
     "name": "stdout",
     "output_type": "stream",
     "text": [
      "[[35.0, 62.0, 101.0, 167.0, 136.0, 299.0, 41456.36882058303], [64.0, 128.0, 185.0, 82.0, 156.0, 185.0, 42947.2209588578], [46.0, 36.0, 81.0, 190.0, 195.0, 252.0, 41092.31450615117], [33.0, 50.0, 221.0, 89.0, 153.0, 254.0, 41456.110590339566], [93.0, 136.0, 113.0, 77.0, 236.0, 145.0, 43417.41209939995], [49.0, 81.0, 80.0, 187.0, 246.0, 157.0, 41676.66998423752], [118.0, 31.0, 134.0, 143.0, 201.0, 173.0, 42146.27297554369], [16.0, 80.0, 98.0, 170.0, 166.0, 270.0, 41563.71809577909]]\n"
     ]
    }
   ],
   "source": [
    "popln_cost_list = popln_cost.tolist()\n",
    "print(popln_cost_list)"
   ]
  },
  {
   "cell_type": "code",
   "execution_count": 10,
   "metadata": {},
   "outputs": [],
   "source": [
    "def sortCost(val): \n",
    "    return val[-1]  "
   ]
  },
  {
   "cell_type": "code",
   "execution_count": 11,
   "metadata": {},
   "outputs": [
    {
     "data": {
      "text/plain": [
       "[[46.0, 36.0, 81.0, 190.0, 195.0, 252.0, 41092.31450615117],\n",
       " [33.0, 50.0, 221.0, 89.0, 153.0, 254.0, 41456.110590339566],\n",
       " [35.0, 62.0, 101.0, 167.0, 136.0, 299.0, 41456.36882058303],\n",
       " [16.0, 80.0, 98.0, 170.0, 166.0, 270.0, 41563.71809577909],\n",
       " [49.0, 81.0, 80.0, 187.0, 246.0, 157.0, 41676.66998423752],\n",
       " [118.0, 31.0, 134.0, 143.0, 201.0, 173.0, 42146.27297554369],\n",
       " [64.0, 128.0, 185.0, 82.0, 156.0, 185.0, 42947.2209588578],\n",
       " [93.0, 136.0, 113.0, 77.0, 236.0, 145.0, 43417.41209939995]]"
      ]
     },
     "execution_count": 11,
     "metadata": {},
     "output_type": "execute_result"
    }
   ],
   "source": [
    "popln_cost_list.sort(key = sortCost)\n",
    "popln_cost_list"
   ]
  },
  {
   "cell_type": "code",
   "execution_count": 12,
   "metadata": {},
   "outputs": [
    {
     "name": "stdout",
     "output_type": "stream",
     "text": [
      "Minimum Cost :  [46.0, 36.0, 81.0, 190.0, 195.0, 252.0, 41092.31450615117]\n"
     ]
    }
   ],
   "source": [
    "minimum = popln_cost_list[0]\n",
    "print(\"Minimum Cost : \", popln_cost_list[0])"
   ]
  },
  {
   "cell_type": "code",
   "execution_count": 13,
   "metadata": {},
   "outputs": [
    {
     "data": {
      "text/plain": [
       "[[46.0, 36.0, 81.0, 190.0, 195.0, 252.0, 41092.31450615117],\n",
       " [33.0, 50.0, 221.0, 89.0, 153.0, 254.0, 41456.110590339566],\n",
       " [35.0, 62.0, 101.0, 167.0, 136.0, 299.0, 41456.36882058303],\n",
       " [16.0, 80.0, 98.0, 170.0, 166.0, 270.0, 41563.71809577909]]"
      ]
     },
     "execution_count": 13,
     "metadata": {},
     "output_type": "execute_result"
    }
   ],
   "source": [
    "# Select Parent Pool -- lowest parent costs\n",
    "selected_parents = popln_cost_list[:4]\n",
    "selected_parents"
   ]
  },
  {
   "cell_type": "code",
   "execution_count": 14,
   "metadata": {
    "scrolled": false
   },
   "outputs": [
    {
     "data": {
      "text/plain": [
       "array([[4.60000000e+01, 3.60000000e+01, 8.10000000e+01, 1.90000000e+02,\n",
       "        1.95000000e+02, 2.52000000e+02, 4.10923145e+04],\n",
       "       [3.30000000e+01, 5.00000000e+01, 2.21000000e+02, 8.90000000e+01,\n",
       "        1.53000000e+02, 2.54000000e+02, 4.14561106e+04],\n",
       "       [3.50000000e+01, 6.20000000e+01, 1.01000000e+02, 1.67000000e+02,\n",
       "        1.36000000e+02, 2.99000000e+02, 4.14563688e+04],\n",
       "       [1.60000000e+01, 8.00000000e+01, 9.80000000e+01, 1.70000000e+02,\n",
       "        1.66000000e+02, 2.70000000e+02, 4.15637181e+04]])"
      ]
     },
     "execution_count": 14,
     "metadata": {},
     "output_type": "execute_result"
    }
   ],
   "source": [
    "selected_parents_arr = np.array(selected_parents)\n",
    "selected_parents_arr"
   ]
  },
  {
   "cell_type": "code",
   "execution_count": 15,
   "metadata": {},
   "outputs": [
    {
     "data": {
      "text/plain": [
       "array([[4.60000000e+01, 3.60000000e+01, 8.10000000e+01, 1.90000000e+02,\n",
       "        1.95000000e+02, 2.52000000e+02, 4.10923145e+04],\n",
       "       [3.30000000e+01, 5.00000000e+01, 2.21000000e+02, 8.90000000e+01,\n",
       "        1.53000000e+02, 2.54000000e+02, 4.14561106e+04],\n",
       "       [3.50000000e+01, 6.20000000e+01, 1.01000000e+02, 1.67000000e+02,\n",
       "        1.36000000e+02, 2.99000000e+02, 4.14563688e+04],\n",
       "       [1.60000000e+01, 8.00000000e+01, 9.80000000e+01, 1.70000000e+02,\n",
       "        1.66000000e+02, 2.70000000e+02, 4.15637181e+04]])"
      ]
     },
     "execution_count": 15,
     "metadata": {},
     "output_type": "execute_result"
    }
   ],
   "source": [
    "parents = ga_ceed_6gen.parent_selection(popln_cost)\n",
    "parents"
   ]
  },
  {
   "cell_type": "code",
   "execution_count": 16,
   "metadata": {},
   "outputs": [
    {
     "data": {
      "text/plain": [
       "array([[3.02500000e+01, 6.65000000e+01, 1.00250000e+02, 1.67750000e+02,\n",
       "        1.43500000e+02, 2.91750000e+02, 4.14599437e+04],\n",
       "       [2.55000000e+01, 7.10000000e+01, 9.95000000e+01, 1.68500000e+02,\n",
       "        1.51000000e+02, 2.84500000e+02, 4.14790269e+04],\n",
       "       [3.95000000e+01, 4.30000000e+01, 1.51000000e+02, 1.39500000e+02,\n",
       "        1.74000000e+02, 2.53000000e+02, 4.10256771e+04],\n",
       "       [3.62500000e+01, 4.65000000e+01, 1.86000000e+02, 1.14250000e+02,\n",
       "        1.63500000e+02, 2.53500000e+02, 4.11787599e+04]])"
      ]
     },
     "execution_count": 16,
     "metadata": {},
     "output_type": "execute_result"
    }
   ],
   "source": [
    "cross_childs = ga_ceed_6gen.whole_linear_crossover(parents, data_6_gen_df, pdemand)\n",
    "cross_childs"
   ]
  },
  {
   "cell_type": "code",
   "execution_count": 17,
   "metadata": {},
   "outputs": [
    {
     "data": {
      "text/plain": [
       "5"
      ]
     },
     "execution_count": 17,
     "metadata": {},
     "output_type": "execute_result"
    }
   ],
   "source": [
    "min(1,5)*5"
   ]
  },
  {
   "cell_type": "code",
   "execution_count": 24,
   "metadata": {},
   "outputs": [
    {
     "data": {
      "text/plain": [
       "array([[3.02500000e+01, 4.53750000e+01, 1.00250000e+02, 1.88875000e+02,\n",
       "        1.43500000e+02, 2.91750000e+02, 4.13077838e+04],\n",
       "       [2.55000000e+01, 5.57500000e+01, 9.95000000e+01, 1.68500000e+02,\n",
       "        1.51000000e+02, 2.99750000e+02, 4.13146358e+04],\n",
       "       [3.95000000e+01, 4.30000000e+01, 1.20000000e+02, 1.39500000e+02,\n",
       "        1.74000000e+02, 2.84000000e+02, 4.10245218e+04],\n",
       "       [3.62500000e+01, 4.65000000e+01, 1.86000000e+02, 1.14250000e+02,\n",
       "        1.63500000e+02, 2.53500000e+02, 4.11787599e+04]])"
      ]
     },
     "execution_count": 24,
     "metadata": {},
     "output_type": "execute_result"
    }
   ],
   "source": [
    "mutate_childs = ga_ceed_6gen.mutation(cross_childs, data_6_gen_df, pdemand, prob_mutation)\n",
    "mutate_childs"
   ]
  },
  {
   "cell_type": "code",
   "execution_count": 29,
   "metadata": {},
   "outputs": [
    {
     "name": "stdout",
     "output_type": "stream",
     "text": [
      "4 7\n"
     ]
    }
   ],
   "source": [
    "pop_no , gen_no = mutate_childs.shape\n",
    "print(pop_no , gen_no)"
   ]
  },
  {
   "cell_type": "code",
   "execution_count": 32,
   "metadata": {},
   "outputs": [
    {
     "data": {
      "text/plain": [
       "array([[0., 0., 0., 0., 0., 0., 0.],\n",
       "       [0., 0., 0., 0., 0., 0., 0.],\n",
       "       [0., 0., 0., 0., 0., 0., 0.],\n",
       "       [0., 0., 0., 0., 0., 0., 0.],\n",
       "       [0., 0., 0., 0., 0., 0., 0.],\n",
       "       [0., 0., 0., 0., 0., 0., 0.],\n",
       "       [0., 0., 0., 0., 0., 0., 0.],\n",
       "       [0., 0., 0., 0., 0., 0., 0.]])"
      ]
     },
     "execution_count": 32,
     "metadata": {},
     "output_type": "execute_result"
    }
   ],
   "source": [
    "child_parents = np.zeros([pop_no*2, gen_no])\n",
    "child_parents"
   ]
  },
  {
   "cell_type": "code",
   "execution_count": 38,
   "metadata": {},
   "outputs": [
    {
     "data": {
      "text/plain": [
       "array([[4.60000000e+01, 3.60000000e+01, 8.10000000e+01, 1.90000000e+02,\n",
       "        1.95000000e+02, 2.52000000e+02, 4.10923145e+04],\n",
       "       [3.30000000e+01, 5.00000000e+01, 2.21000000e+02, 8.90000000e+01,\n",
       "        1.53000000e+02, 2.54000000e+02, 4.14561106e+04],\n",
       "       [3.50000000e+01, 6.20000000e+01, 1.01000000e+02, 1.67000000e+02,\n",
       "        1.36000000e+02, 2.99000000e+02, 4.14563688e+04],\n",
       "       [1.60000000e+01, 8.00000000e+01, 9.80000000e+01, 1.70000000e+02,\n",
       "        1.66000000e+02, 2.70000000e+02, 4.15637181e+04],\n",
       "       [3.02500000e+01, 6.65000000e+01, 1.00250000e+02, 1.67750000e+02,\n",
       "        1.43500000e+02, 2.91750000e+02, 4.14599437e+04],\n",
       "       [2.55000000e+01, 7.10000000e+01, 9.95000000e+01, 1.68500000e+02,\n",
       "        1.51000000e+02, 2.84500000e+02, 4.14790269e+04],\n",
       "       [3.95000000e+01, 4.30000000e+01, 1.51000000e+02, 1.39500000e+02,\n",
       "        1.74000000e+02, 2.53000000e+02, 4.10256771e+04],\n",
       "       [3.62500000e+01, 4.65000000e+01, 1.86000000e+02, 1.14250000e+02,\n",
       "        1.63500000e+02, 2.53500000e+02, 4.11787599e+04]])"
      ]
     },
     "execution_count": 38,
     "metadata": {},
     "output_type": "execute_result"
    }
   ],
   "source": [
    "child_parents[:pop_no] = parents\n",
    "child_parents[pop_no:] = mutate_childs\n",
    "child_parents"
   ]
  },
  {
   "cell_type": "code",
   "execution_count": 2,
   "metadata": {},
   "outputs": [
    {
     "data": {
      "text/plain": [
       "array([0., 0., 0., 0., 0., 0., 0., 0., 0., 0.])"
      ]
     },
     "execution_count": 2,
     "metadata": {},
     "output_type": "execute_result"
    }
   ],
   "source": [
    "np.zeros([10])"
   ]
  },
  {
   "cell_type": "code",
   "execution_count": 1,
   "metadata": {},
   "outputs": [
    {
     "name": "stdout",
     "output_type": "stream",
     "text": [
      "0\n",
      "10\n",
      "20\n",
      "30\n",
      "40\n",
      "50\n",
      "60\n",
      "70\n",
      "80\n",
      "90\n"
     ]
    }
   ],
   "source": [
    "for i in range(0, 100, 10):\n",
    "    print(i)\n"
   ]
  },
  {
   "cell_type": "code",
   "execution_count": null,
   "metadata": {},
   "outputs": [],
   "source": []
  }
 ],
 "metadata": {
  "kernelspec": {
   "display_name": "Python 3",
   "language": "python",
   "name": "python3"
  },
  "language_info": {
   "codemirror_mode": {
    "name": "ipython",
    "version": 3
   },
   "file_extension": ".py",
   "mimetype": "text/x-python",
   "name": "python",
   "nbconvert_exporter": "python",
   "pygments_lexer": "ipython3",
   "version": "3.6.5"
  }
 },
 "nbformat": 4,
 "nbformat_minor": 2
}
