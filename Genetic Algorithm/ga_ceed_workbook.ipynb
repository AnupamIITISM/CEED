{
 "cells": [
  {
   "cell_type": "code",
   "execution_count": 2,
   "metadata": {},
   "outputs": [],
   "source": [
    "import pandas as pd\n",
    "import numpy as np\n",
    "import ga_ceed_6gen\n",
    "import random"
   ]
  },
  {
   "cell_type": "code",
   "execution_count": 3,
   "metadata": {},
   "outputs": [
    {
     "name": "stdout",
     "output_type": "stream",
     "text": [
      "       a       b        c   alpha    beta  gamma  pmin  pmax\n",
      "0  0.152  38.540   756.80  0.0042  0.3300  13.86    10   125\n",
      "1  0.106  46.160   451.32  0.0042  0.3300  13.86    10   150\n",
      "2  0.028  40.400  1050.00  0.0068 -0.5455  40.26    35   225\n",
      "3  0.035  38.310  1243.53  0.0068 -0.5455  40.26    35   210\n",
      "4  0.021  36.328  1658.57  0.0046 -0.5112  42.92   130   325\n",
      "5  0.018  38.270  1356.66  0.0046 -0.5112  42.96   125   315\n"
     ]
    }
   ],
   "source": [
    "data_6_gen_df = pd.read_excel('ceed_data_6_gen.xlsx')\n",
    "print(data_6_gen_df)"
   ]
  },
  {
   "cell_type": "code",
   "execution_count": 4,
   "metadata": {},
   "outputs": [],
   "source": [
    "# get a,b,c column\n"
   ]
  },
  {
   "cell_type": "code",
   "execution_count": 5,
   "metadata": {},
   "outputs": [],
   "source": [
    "# Random Candidate\n",
    "cand = np.array([1,2, 1, 1, 1, 3])"
   ]
  },
  {
   "cell_type": "code",
   "execution_count": 6,
   "metadata": {},
   "outputs": [
    {
     "data": {
      "text/plain": [
       "0.022264267892110418"
      ]
     },
     "execution_count": 6,
     "metadata": {},
     "output_type": "execute_result"
    }
   ],
   "source": [
    "ga_ceed_6gen.calc_hi(data_6_gen_df, cand,600)"
   ]
  },
  {
   "cell_type": "code",
   "execution_count": 7,
   "metadata": {},
   "outputs": [
    {
     "data": {
      "text/plain": [
       "6882.759960210513"
      ]
     },
     "execution_count": 7,
     "metadata": {},
     "output_type": "execute_result"
    }
   ],
   "source": [
    "ga_ceed_6gen.calc_candidate_total_cost(cand, data_6_gen_df, 900)"
   ]
  },
  {
   "cell_type": "code",
   "execution_count": 8,
   "metadata": {},
   "outputs": [
    {
     "data": {
      "text/plain": [
       "array([[ 19., 148.,  50., 118., 298., 167.],\n",
       "       [123., 143., 134.,  59., 203., 138.],\n",
       "       [107.,  84., 128.,  96., 222., 163.],\n",
       "       [119.,  66., 146.,  72., 212., 185.],\n",
       "       [106.,  77., 119., 127., 174., 197.],\n",
       "       [ 16.,  41.,  62., 190., 226., 265.],\n",
       "       [ 86.,  31.,  71.,  74., 246., 292.],\n",
       "       [ 54., 148.,  85.,  62., 196., 255.]])"
      ]
     },
     "execution_count": 8,
     "metadata": {},
     "output_type": "execute_result"
    }
   ],
   "source": [
    "popln = ga_ceed_6gen.initiate_population_random(data_6_gen_df, 8, 6, 800)\n",
    "popln"
   ]
  },
  {
   "cell_type": "code",
   "execution_count": 9,
   "metadata": {},
   "outputs": [
    {
     "data": {
      "text/plain": [
       "array([[1.90000000e+01, 1.48000000e+02, 5.00000000e+01, 1.18000000e+02,\n",
       "        2.98000000e+02, 1.67000000e+02, 4.31538919e+04],\n",
       "       [1.23000000e+02, 1.43000000e+02, 1.34000000e+02, 5.90000000e+01,\n",
       "        2.03000000e+02, 1.38000000e+02, 4.45006944e+04],\n",
       "       [1.07000000e+02, 8.40000000e+01, 1.28000000e+02, 9.60000000e+01,\n",
       "        2.22000000e+02, 1.63000000e+02, 4.24645856e+04],\n",
       "       [1.19000000e+02, 6.60000000e+01, 1.46000000e+02, 7.20000000e+01,\n",
       "        2.12000000e+02, 1.85000000e+02, 4.25526428e+04],\n",
       "       [1.06000000e+02, 7.70000000e+01, 1.19000000e+02, 1.27000000e+02,\n",
       "        1.74000000e+02, 1.97000000e+02, 4.23331215e+04],\n",
       "       [1.60000000e+01, 4.10000000e+01, 6.20000000e+01, 1.90000000e+02,\n",
       "        2.26000000e+02, 2.65000000e+02, 4.11010775e+04],\n",
       "       [8.60000000e+01, 3.10000000e+01, 7.10000000e+01, 7.40000000e+01,\n",
       "        2.46000000e+02, 2.92000000e+02, 4.14562031e+04],\n",
       "       [5.40000000e+01, 1.48000000e+02, 8.50000000e+01, 6.20000000e+01,\n",
       "        1.96000000e+02, 2.55000000e+02, 4.32106384e+04]])"
      ]
     },
     "execution_count": 9,
     "metadata": {},
     "output_type": "execute_result"
    }
   ],
   "source": [
    "popln_cost = ga_ceed_6gen.calculate_population_cost(popln, data_6_gen_df, 800)\n",
    "popln_cost"
   ]
  },
  {
   "cell_type": "code",
   "execution_count": 10,
   "metadata": {},
   "outputs": [
    {
     "name": "stdout",
     "output_type": "stream",
     "text": [
      "[[19.0, 148.0, 50.0, 118.0, 298.0, 167.0, 43153.8918728756], [123.0, 143.0, 134.0, 59.0, 203.0, 138.0, 44500.69443539469], [107.0, 84.0, 128.0, 96.0, 222.0, 163.0, 42464.585563850436], [119.0, 66.0, 146.0, 72.0, 212.0, 185.0, 42552.64276329919], [106.0, 77.0, 119.0, 127.0, 174.0, 197.0, 42333.12153334917], [16.0, 41.0, 62.0, 190.0, 226.0, 265.0, 41101.07748725523], [86.0, 31.0, 71.0, 74.0, 246.0, 292.0, 41456.203127299894], [54.0, 148.0, 85.0, 62.0, 196.0, 255.0, 43210.63838925149]]\n"
     ]
    }
   ],
   "source": [
    "popln_cost_list = popln_cost.tolist()\n",
    "print(popln_cost_list)"
   ]
  },
  {
   "cell_type": "code",
   "execution_count": 11,
   "metadata": {},
   "outputs": [],
   "source": [
    "def sortCost(val): \n",
    "    return val[-1]  "
   ]
  },
  {
   "cell_type": "code",
   "execution_count": 12,
   "metadata": {},
   "outputs": [
    {
     "data": {
      "text/plain": [
       "[[16.0, 41.0, 62.0, 190.0, 226.0, 265.0, 41101.07748725523],\n",
       " [86.0, 31.0, 71.0, 74.0, 246.0, 292.0, 41456.203127299894],\n",
       " [106.0, 77.0, 119.0, 127.0, 174.0, 197.0, 42333.12153334917],\n",
       " [107.0, 84.0, 128.0, 96.0, 222.0, 163.0, 42464.585563850436],\n",
       " [119.0, 66.0, 146.0, 72.0, 212.0, 185.0, 42552.64276329919],\n",
       " [19.0, 148.0, 50.0, 118.0, 298.0, 167.0, 43153.8918728756],\n",
       " [54.0, 148.0, 85.0, 62.0, 196.0, 255.0, 43210.63838925149],\n",
       " [123.0, 143.0, 134.0, 59.0, 203.0, 138.0, 44500.69443539469]]"
      ]
     },
     "execution_count": 12,
     "metadata": {},
     "output_type": "execute_result"
    }
   ],
   "source": [
    "popln_cost_list.sort(key = sortCost)\n",
    "popln_cost_list"
   ]
  },
  {
   "cell_type": "code",
   "execution_count": 13,
   "metadata": {},
   "outputs": [
    {
     "name": "stdout",
     "output_type": "stream",
     "text": [
      "Minimum Cost :  [16.0, 41.0, 62.0, 190.0, 226.0, 265.0, 41101.07748725523]\n"
     ]
    }
   ],
   "source": [
    "minimum = popln_cost_list[0]\n",
    "print(\"Minimum Cost : \", popln_cost_list[0])"
   ]
  },
  {
   "cell_type": "code",
   "execution_count": 14,
   "metadata": {},
   "outputs": [
    {
     "data": {
      "text/plain": [
       "[[16.0, 41.0, 62.0, 190.0, 226.0, 265.0, 41101.07748725523],\n",
       " [86.0, 31.0, 71.0, 74.0, 246.0, 292.0, 41456.203127299894],\n",
       " [106.0, 77.0, 119.0, 127.0, 174.0, 197.0, 42333.12153334917],\n",
       " [107.0, 84.0, 128.0, 96.0, 222.0, 163.0, 42464.585563850436]]"
      ]
     },
     "execution_count": 14,
     "metadata": {},
     "output_type": "execute_result"
    }
   ],
   "source": [
    "# Select Parent Pool -- lowest parent costs\n",
    "selected_parents = popln_cost_list[:4]\n",
    "selected_parents"
   ]
  },
  {
   "cell_type": "code",
   "execution_count": 15,
   "metadata": {},
   "outputs": [
    {
     "data": {
      "text/plain": [
       "array([[1.60000000e+01, 4.10000000e+01, 6.20000000e+01, 1.90000000e+02,\n",
       "        2.26000000e+02, 2.65000000e+02, 4.11010775e+04],\n",
       "       [8.60000000e+01, 3.10000000e+01, 7.10000000e+01, 7.40000000e+01,\n",
       "        2.46000000e+02, 2.92000000e+02, 4.14562031e+04],\n",
       "       [1.06000000e+02, 7.70000000e+01, 1.19000000e+02, 1.27000000e+02,\n",
       "        1.74000000e+02, 1.97000000e+02, 4.23331215e+04],\n",
       "       [1.07000000e+02, 8.40000000e+01, 1.28000000e+02, 9.60000000e+01,\n",
       "        2.22000000e+02, 1.63000000e+02, 4.24645856e+04]])"
      ]
     },
     "execution_count": 15,
     "metadata": {},
     "output_type": "execute_result"
    }
   ],
   "source": [
    "selected_parents_arr = np.array(selected_parents)\n",
    "selected_parents_arr"
   ]
  },
  {
   "cell_type": "code",
   "execution_count": 17,
   "metadata": {},
   "outputs": [
    {
     "data": {
      "text/plain": [
       "array([5.10000000e+01, 3.60000000e+01, 6.65000000e+01, 1.32000000e+02,\n",
       "       2.36000000e+02, 2.78500000e+02, 4.12786403e+04])"
      ]
     },
     "execution_count": 17,
     "metadata": {},
     "output_type": "execute_result"
    }
   ],
   "source": [
    "child = (selected_parents_arr[0] + selected_parents_arr[1])/2\n",
    "child"
   ]
  },
  {
   "cell_type": "code",
   "execution_count": 21,
   "metadata": {},
   "outputs": [
    {
     "data": {
      "text/plain": [
       "array([[ 16.,  41.,  62., 190., 226., 265.],\n",
       "       [ 86.,  31.,  71.,  74., 246., 292.],\n",
       "       [106.,  77., 119., 127., 174., 197.],\n",
       "       [107.,  84., 128.,  96., 222., 163.]])"
      ]
     },
     "execution_count": 21,
     "metadata": {},
     "output_type": "execute_result"
    }
   ],
   "source": [
    "selected_parents_arr[:,:-1]"
   ]
  },
  {
   "cell_type": "code",
   "execution_count": null,
   "metadata": {},
   "outputs": [],
   "source": []
  }
 ],
 "metadata": {
  "kernelspec": {
   "display_name": "Python 3",
   "language": "python",
   "name": "python3"
  },
  "language_info": {
   "codemirror_mode": {
    "name": "ipython",
    "version": 3
   },
   "file_extension": ".py",
   "mimetype": "text/x-python",
   "name": "python",
   "nbconvert_exporter": "python",
   "pygments_lexer": "ipython3",
   "version": "3.6.5"
  }
 },
 "nbformat": 4,
 "nbformat_minor": 2
}
