{
 "cells": [
  {
   "cell_type": "code",
   "execution_count": 32,
   "metadata": {},
   "outputs": [],
   "source": [
    "import pandas as pd\n",
    "import numpy as np\n",
    "from sklearn.model_selection import train_test_split"
   ]
  },
  {
   "cell_type": "code",
   "execution_count": 33,
   "metadata": {},
   "outputs": [],
   "source": [
    "train_data = pd.read_excel(\"data.xlsx\")"
   ]
  },
  {
   "cell_type": "code",
   "execution_count": 34,
   "metadata": {
    "scrolled": true
   },
   "outputs": [
    {
     "name": "stdout",
     "output_type": "stream",
     "text": [
      "      PD        P1        P2        P3        P4        P5        P6  PL(%)\n",
      "0    450   24.3220   16.1374   80.5476   81.4307  130.0000  125.0000  1.654\n",
      "1    500   33.2868   26.8715   89.9276   90.4990  135.5645  132.7837  1.787\n",
      "2    550   40.4125   35.4319   97.4055   97.7209  146.2139  143.5136  1.947\n",
      "3    600   47.7130   44.2851  104.8770  104.9221  156.7143  154.1298  2.107\n",
      "4    650   54.9070   52.9637  112.4122  112.1889  167.4006  164.8834  2.271\n",
      "5    700   62.1192   61.6906  119.9870  119.4870  178.1187  175.6631  2.437\n",
      "6    750   69.3430   70.4586  127.5951  126.8102  188.8590  186.4593  2.604\n",
      "7    800   76.5853   79.2762  135.2438  134.1653  199.6315  197.2820  2.774\n",
      "8    850   83.8447   88.1423  142.9323  141.5513  210.4345  208.1293  2.945\n",
      "9    900   92.3427   98.4066  150.2081  148.5717  220.3319  218.1497  3.112\n",
      "10   950   99.7516  107.4618  157.9220  155.9783  231.1310  228.9741  3.286\n",
      "11  1000  107.1771  116.5671  165.6762  163.4162  241.9604  239.8226  3.461\n",
      "12  1050  114.6157  125.7183  173.4674  170.8820  252.8148  250.6899  3.637\n"
     ]
    }
   ],
   "source": [
    "print(train_data)"
   ]
  },
  {
   "cell_type": "code",
   "execution_count": 35,
   "metadata": {},
   "outputs": [
    {
     "data": {
      "text/plain": [
       "0      450\n",
       "1      500\n",
       "2      550\n",
       "3      600\n",
       "4      650\n",
       "5      700\n",
       "6      750\n",
       "7      800\n",
       "8      850\n",
       "9      900\n",
       "10     950\n",
       "11    1000\n",
       "12    1050\n",
       "Name: PD, dtype: int64"
      ]
     },
     "execution_count": 35,
     "metadata": {},
     "output_type": "execute_result"
    }
   ],
   "source": [
    "x = train_data.iloc[:,0]\n",
    "x"
   ]
  },
  {
   "cell_type": "code",
   "execution_count": 36,
   "metadata": {
    "scrolled": true
   },
   "outputs": [
    {
     "data": {
      "text/html": [
       "<div>\n",
       "<style scoped>\n",
       "    .dataframe tbody tr th:only-of-type {\n",
       "        vertical-align: middle;\n",
       "    }\n",
       "\n",
       "    .dataframe tbody tr th {\n",
       "        vertical-align: top;\n",
       "    }\n",
       "\n",
       "    .dataframe thead th {\n",
       "        text-align: right;\n",
       "    }\n",
       "</style>\n",
       "<table border=\"1\" class=\"dataframe\">\n",
       "  <thead>\n",
       "    <tr style=\"text-align: right;\">\n",
       "      <th></th>\n",
       "      <th>P1</th>\n",
       "      <th>P2</th>\n",
       "      <th>P3</th>\n",
       "      <th>P4</th>\n",
       "      <th>P5</th>\n",
       "      <th>P6</th>\n",
       "      <th>PL(%)</th>\n",
       "    </tr>\n",
       "  </thead>\n",
       "  <tbody>\n",
       "    <tr>\n",
       "      <th>0</th>\n",
       "      <td>24.3220</td>\n",
       "      <td>16.1374</td>\n",
       "      <td>80.5476</td>\n",
       "      <td>81.4307</td>\n",
       "      <td>130.0000</td>\n",
       "      <td>125.0000</td>\n",
       "      <td>1.654</td>\n",
       "    </tr>\n",
       "    <tr>\n",
       "      <th>1</th>\n",
       "      <td>33.2868</td>\n",
       "      <td>26.8715</td>\n",
       "      <td>89.9276</td>\n",
       "      <td>90.4990</td>\n",
       "      <td>135.5645</td>\n",
       "      <td>132.7837</td>\n",
       "      <td>1.787</td>\n",
       "    </tr>\n",
       "    <tr>\n",
       "      <th>2</th>\n",
       "      <td>40.4125</td>\n",
       "      <td>35.4319</td>\n",
       "      <td>97.4055</td>\n",
       "      <td>97.7209</td>\n",
       "      <td>146.2139</td>\n",
       "      <td>143.5136</td>\n",
       "      <td>1.947</td>\n",
       "    </tr>\n",
       "    <tr>\n",
       "      <th>3</th>\n",
       "      <td>47.7130</td>\n",
       "      <td>44.2851</td>\n",
       "      <td>104.8770</td>\n",
       "      <td>104.9221</td>\n",
       "      <td>156.7143</td>\n",
       "      <td>154.1298</td>\n",
       "      <td>2.107</td>\n",
       "    </tr>\n",
       "    <tr>\n",
       "      <th>4</th>\n",
       "      <td>54.9070</td>\n",
       "      <td>52.9637</td>\n",
       "      <td>112.4122</td>\n",
       "      <td>112.1889</td>\n",
       "      <td>167.4006</td>\n",
       "      <td>164.8834</td>\n",
       "      <td>2.271</td>\n",
       "    </tr>\n",
       "    <tr>\n",
       "      <th>5</th>\n",
       "      <td>62.1192</td>\n",
       "      <td>61.6906</td>\n",
       "      <td>119.9870</td>\n",
       "      <td>119.4870</td>\n",
       "      <td>178.1187</td>\n",
       "      <td>175.6631</td>\n",
       "      <td>2.437</td>\n",
       "    </tr>\n",
       "    <tr>\n",
       "      <th>6</th>\n",
       "      <td>69.3430</td>\n",
       "      <td>70.4586</td>\n",
       "      <td>127.5951</td>\n",
       "      <td>126.8102</td>\n",
       "      <td>188.8590</td>\n",
       "      <td>186.4593</td>\n",
       "      <td>2.604</td>\n",
       "    </tr>\n",
       "    <tr>\n",
       "      <th>7</th>\n",
       "      <td>76.5853</td>\n",
       "      <td>79.2762</td>\n",
       "      <td>135.2438</td>\n",
       "      <td>134.1653</td>\n",
       "      <td>199.6315</td>\n",
       "      <td>197.2820</td>\n",
       "      <td>2.774</td>\n",
       "    </tr>\n",
       "    <tr>\n",
       "      <th>8</th>\n",
       "      <td>83.8447</td>\n",
       "      <td>88.1423</td>\n",
       "      <td>142.9323</td>\n",
       "      <td>141.5513</td>\n",
       "      <td>210.4345</td>\n",
       "      <td>208.1293</td>\n",
       "      <td>2.945</td>\n",
       "    </tr>\n",
       "    <tr>\n",
       "      <th>9</th>\n",
       "      <td>92.3427</td>\n",
       "      <td>98.4066</td>\n",
       "      <td>150.2081</td>\n",
       "      <td>148.5717</td>\n",
       "      <td>220.3319</td>\n",
       "      <td>218.1497</td>\n",
       "      <td>3.112</td>\n",
       "    </tr>\n",
       "    <tr>\n",
       "      <th>10</th>\n",
       "      <td>99.7516</td>\n",
       "      <td>107.4618</td>\n",
       "      <td>157.9220</td>\n",
       "      <td>155.9783</td>\n",
       "      <td>231.1310</td>\n",
       "      <td>228.9741</td>\n",
       "      <td>3.286</td>\n",
       "    </tr>\n",
       "    <tr>\n",
       "      <th>11</th>\n",
       "      <td>107.1771</td>\n",
       "      <td>116.5671</td>\n",
       "      <td>165.6762</td>\n",
       "      <td>163.4162</td>\n",
       "      <td>241.9604</td>\n",
       "      <td>239.8226</td>\n",
       "      <td>3.461</td>\n",
       "    </tr>\n",
       "    <tr>\n",
       "      <th>12</th>\n",
       "      <td>114.6157</td>\n",
       "      <td>125.7183</td>\n",
       "      <td>173.4674</td>\n",
       "      <td>170.8820</td>\n",
       "      <td>252.8148</td>\n",
       "      <td>250.6899</td>\n",
       "      <td>3.637</td>\n",
       "    </tr>\n",
       "  </tbody>\n",
       "</table>\n",
       "</div>"
      ],
      "text/plain": [
       "          P1        P2        P3        P4        P5        P6  PL(%)\n",
       "0    24.3220   16.1374   80.5476   81.4307  130.0000  125.0000  1.654\n",
       "1    33.2868   26.8715   89.9276   90.4990  135.5645  132.7837  1.787\n",
       "2    40.4125   35.4319   97.4055   97.7209  146.2139  143.5136  1.947\n",
       "3    47.7130   44.2851  104.8770  104.9221  156.7143  154.1298  2.107\n",
       "4    54.9070   52.9637  112.4122  112.1889  167.4006  164.8834  2.271\n",
       "5    62.1192   61.6906  119.9870  119.4870  178.1187  175.6631  2.437\n",
       "6    69.3430   70.4586  127.5951  126.8102  188.8590  186.4593  2.604\n",
       "7    76.5853   79.2762  135.2438  134.1653  199.6315  197.2820  2.774\n",
       "8    83.8447   88.1423  142.9323  141.5513  210.4345  208.1293  2.945\n",
       "9    92.3427   98.4066  150.2081  148.5717  220.3319  218.1497  3.112\n",
       "10   99.7516  107.4618  157.9220  155.9783  231.1310  228.9741  3.286\n",
       "11  107.1771  116.5671  165.6762  163.4162  241.9604  239.8226  3.461\n",
       "12  114.6157  125.7183  173.4674  170.8820  252.8148  250.6899  3.637"
      ]
     },
     "execution_count": 36,
     "metadata": {},
     "output_type": "execute_result"
    }
   ],
   "source": [
    "Y = train_data.iloc[:,1:]\n",
    "Y"
   ]
  },
  {
   "cell_type": "code",
   "execution_count": 37,
   "metadata": {},
   "outputs": [],
   "source": [
    "X_train, X_test, y_train, y_test = train_test_split(x, Y, test_size=0.33, random_state=42)"
   ]
  },
  {
   "cell_type": "code",
   "execution_count": 38,
   "metadata": {},
   "outputs": [
    {
     "name": "stdout",
     "output_type": "stream",
     "text": [
      "2      550\n",
      "1      500\n",
      "12    1050\n",
      "4      650\n",
      "7      800\n",
      "10     950\n",
      "3      600\n",
      "6      750\n",
      "Name: PD, dtype: int64\n",
      "11    1000\n",
      "9      900\n",
      "0      450\n",
      "8      850\n",
      "5      700\n",
      "Name: PD, dtype: int64\n",
      "          P1        P2        P3        P4        P5        P6  PL(%)\n",
      "2    40.4125   35.4319   97.4055   97.7209  146.2139  143.5136  1.947\n",
      "1    33.2868   26.8715   89.9276   90.4990  135.5645  132.7837  1.787\n",
      "12  114.6157  125.7183  173.4674  170.8820  252.8148  250.6899  3.637\n",
      "4    54.9070   52.9637  112.4122  112.1889  167.4006  164.8834  2.271\n",
      "7    76.5853   79.2762  135.2438  134.1653  199.6315  197.2820  2.774\n",
      "10   99.7516  107.4618  157.9220  155.9783  231.1310  228.9741  3.286\n",
      "3    47.7130   44.2851  104.8770  104.9221  156.7143  154.1298  2.107\n",
      "6    69.3430   70.4586  127.5951  126.8102  188.8590  186.4593  2.604\n",
      "          P1        P2        P3        P4        P5        P6  PL(%)\n",
      "11  107.1771  116.5671  165.6762  163.4162  241.9604  239.8226  3.461\n",
      "9    92.3427   98.4066  150.2081  148.5717  220.3319  218.1497  3.112\n",
      "0    24.3220   16.1374   80.5476   81.4307  130.0000  125.0000  1.654\n",
      "8    83.8447   88.1423  142.9323  141.5513  210.4345  208.1293  2.945\n",
      "5    62.1192   61.6906  119.9870  119.4870  178.1187  175.6631  2.437\n"
     ]
    }
   ],
   "source": [
    "print(X_train)\n",
    "print(X_test)\n",
    "print(y_train)\n",
    "print(y_test)"
   ]
  },
  {
   "cell_type": "code",
   "execution_count": 39,
   "metadata": {},
   "outputs": [],
   "source": [
    "import torch\n",
    "from torchvision import datasets, transforms\n",
    "import helper"
   ]
  },
  {
   "cell_type": "code",
   "execution_count": 40,
   "metadata": {},
   "outputs": [],
   "source": [
    "transform = transforms.Compose([transforms.ToTensor(),\n",
    "                                transforms.Normalize((0.5, 0.5, 0.5), (0.5, 0.5, 0.5))])\n",
    "# Download and load the training data\n",
    "trainset = train_data\n",
    "trainloader = torch.utils.data.DataLoader(trainset, batch_size=64, shuffle=True)"
   ]
  },
  {
   "cell_type": "code",
   "execution_count": null,
   "metadata": {},
   "outputs": [],
   "source": []
  },
  {
   "cell_type": "code",
   "execution_count": 41,
   "metadata": {},
   "outputs": [],
   "source": [
    "%matplotlib inline\n",
    "%config InlineBackend.figure_format = 'retina'\n",
    "\n",
    "import matplotlib.pyplot as plt\n",
    "import numpy as np\n",
    "import time\n",
    "\n",
    "import torch\n",
    "from torch import nn\n",
    "from torch import optim\n",
    "import torch.nn.functional as F\n",
    "from torchvision import datasets, transforms\n",
    "\n",
    "import helper\n",
    "import model"
   ]
  },
  {
   "cell_type": "code",
   "execution_count": 42,
   "metadata": {},
   "outputs": [],
   "source": [
    "# Create the network, define the criterion and optimizer\n",
    "\n",
    "model = model.Network(1, 6, [8, 32], drop_p=0.5)\n",
    "criterion = nn.NLLLoss()\n",
    "optimizer = optim.Adam(model.parameters(), lr=0.001)"
   ]
  },
  {
   "cell_type": "code",
   "execution_count": null,
   "metadata": {},
   "outputs": [],
   "source": [
    "epochs = 2\n",
    "steps = 0\n",
    "running_loss = 0\n",
    "print_every = 40\n",
    "for e in range(epochs):\n",
    "    model.train()\n",
    "    for images, labels in trainloader:\n",
    "        steps += 1\n",
    "        \n",
    "       \n",
    "        optimizer.zero_grad()\n",
    "        \n",
    "        output = model.forward(images)\n",
    "        loss = criterion(output, labels)\n",
    "        loss.backward()\n",
    "        optimizer.step()\n",
    "        \n",
    "        running_loss += loss.item()\n",
    "        \n",
    "        if steps % print_every == 0:\n",
    "            # Make sure network is in eval mode for inference\n",
    "            model.eval()\n",
    "            \n",
    "            # Turn off gradients for validation, saves memory and computations\n",
    "            with torch.no_grad():\n",
    "                test_loss, accuracy = validation(model, testloader, criterion)\n",
    "                \n",
    "            print(\"Epoch: {}/{}.. \".format(e+1, epochs),\n",
    "                  \"Training Loss: {:.3f}.. \".format(running_loss/print_every),\n",
    "                  \"Test Loss: {:.3f}.. \".format(test_loss/len(testloader)),\n",
    "                  \"Test Accuracy: {:.3f}\".format(accuracy/len(testloader)))\n",
    "            \n",
    "            running_loss = 0\n",
    "            \n",
    "            # Make sure training is back on\n",
    "            model.train()"
   ]
  },
  {
   "cell_type": "code",
   "execution_count": null,
   "metadata": {},
   "outputs": [],
   "source": []
  }
 ],
 "metadata": {
  "kernelspec": {
   "display_name": "Python 3",
   "language": "python",
   "name": "python3"
  },
  "language_info": {
   "codemirror_mode": {
    "name": "ipython",
    "version": 3
   },
   "file_extension": ".py",
   "mimetype": "text/x-python",
   "name": "python",
   "nbconvert_exporter": "python",
   "pygments_lexer": "ipython3",
   "version": "3.6.5"
  }
 },
 "nbformat": 4,
 "nbformat_minor": 2
}
